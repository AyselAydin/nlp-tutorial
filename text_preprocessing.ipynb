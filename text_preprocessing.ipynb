{
 "cells": [
  {
   "cell_type": "markdown",
   "metadata": {},
   "source": [
    "### Text Preprocessing Techniques\n",
    "\n",
    "Text preprocessing refers to a series of techniques used to clean, transform and prepare raw textual data into a format that is suitable for NLP or ML tasks. The goal of text preprocessing is to enhance the quality and usability of the text data for subsequent analysis or modeling.\n",
    "\n",
    "Text preprocessing typically involves the following steps:\n",
    "\n",
    "* Lowercasing\n",
    "* Removing Punctuation & Special Characters\n",
    "* Stop-Words Removal\n",
    "* Removal of URLs\n",
    "* Removal of HTML Tags\n",
    "* Stemming & Lemmatization\n",
    "* Tokenization"
   ]
  },
  {
   "cell_type": "markdown",
   "metadata": {},
   "source": [
    "### Lowercasing\n",
    "Lowercasing is a text preprocessing step where all letters in the text are converted to lowercase."
   ]
  },
  {
   "cell_type": "code",
   "execution_count": 1,
   "metadata": {},
   "outputs": [
    {
     "name": "stdout",
     "output_type": "stream",
     "text": [
      "hello world!\n"
     ]
    }
   ],
   "source": [
    "text = \"Hello WorlD!\"\n",
    "lowercased_text = text.lower()\n",
    "\n",
    "print(lowercased_text)"
   ]
  },
  {
   "cell_type": "markdown",
   "metadata": {},
   "source": [
    "### Removing Punctuation & Special Characters\n",
    "Punctuation removal is a text preprocessing step where you remove all punctuation marks (such as periods, commas, exclamation marks, emojis etc.) from the text to simplify it and focus on the words themselves."
   ]
  },
  {
   "cell_type": "code",
   "execution_count": 2,
   "metadata": {},
   "outputs": [
    {
     "name": "stdout",
     "output_type": "stream",
     "text": [
      "Hello world This is an example of text preprocessing\n"
     ]
    }
   ],
   "source": [
    "import re\n",
    "\n",
    "text = \"Hello, world! This is?* 💜an&/|~^+%'\\\" example- of text preprocessing.\"\n",
    "\n",
    "punctuation_pattern = r'[^\\w\\s]'\n",
    "\n",
    "text_cleaned = re.sub(punctuation_pattern, '', text)\n",
    "\n",
    "print(text_cleaned)"
   ]
  },
  {
   "cell_type": "markdown",
   "metadata": {},
   "source": [
    "### Stop-Words Removal\n",
    "Stopwords are words that don’t contribute to the meaning of a sentence. So they can be removed without causing any change in the meaning of the sentence."
   ]
  },
  {
   "cell_type": "code",
   "execution_count": 3,
   "metadata": {},
   "outputs": [
    {
     "name": "stdout",
     "output_type": "stream",
     "text": [
      "english\n",
      "['This', 'sample', 'sentence', 'going', 'remove', 'stopwords']\n",
      "turkish\n",
      "['cümledeki', 'engellenen', 'kelimeleri', 'kaldıracağız']\n"
     ]
    }
   ],
   "source": [
    "from nltk.corpus import  stopwords\n",
    "\n",
    "# remove english stopwords function\n",
    "def remove_stopwords(text, language):\n",
    "    stop_words = set(stopwords.words(language))\n",
    "    word_tokens = text.split()\n",
    "    filtered_text = [word for word in word_tokens if word not in stop_words]\n",
    "    print(language)\n",
    "    print(filtered_text)\n",
    " \n",
    "en_text = \"This is a sample sentence and we are going to remove the stopwords from this\"\n",
    "remove_stopwords(en_text, \"english\")\n",
    "\n",
    "tr_text = \"bu cümledeki engellenen kelimeleri kaldıracağız\"\n",
    "remove_stopwords(tr_text, \"turkish\")"
   ]
  },
  {
   "cell_type": "markdown",
   "metadata": {},
   "source": [
    "Note: If you examine the output closely, you’ll notice that in the first sentence, the word ‘this’ was removed, but ‘This’ was not removed. So, it is necessary to convert the sentence to lowercase and remove punctuation marks before applying this step."
   ]
  }
 ],
 "metadata": {
  "kernelspec": {
   "display_name": "Python 3",
   "language": "python",
   "name": "python3"
  },
  "language_info": {
   "codemirror_mode": {
    "name": "ipython",
    "version": 3
   },
   "file_extension": ".py",
   "mimetype": "text/x-python",
   "name": "python",
   "nbconvert_exporter": "python",
   "pygments_lexer": "ipython3",
   "version": "3.9.2"
  }
 },
 "nbformat": 4,
 "nbformat_minor": 2
}
